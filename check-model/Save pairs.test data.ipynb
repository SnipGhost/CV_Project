{
 "cells": [
  {
   "cell_type": "code",
   "execution_count": 1,
   "metadata": {
    "collapsed": false,
    "deletable": true,
    "editable": true
   },
   "outputs": [],
   "source": [
    "with open('../pairs.txt') as f:\n",
    "    s = f.read().split('\\n')"
   ]
  },
  {
   "cell_type": "code",
   "execution_count": 2,
   "metadata": {
    "collapsed": false,
    "deletable": true,
    "editable": true
   },
   "outputs": [
    {
     "name": "stdout",
     "output_type": "stream",
     "text": [
      "(6002, ['10\\t300', 'Abel_Pacheco\\t1\\t4', 'Akhmed_Zakayev\\t1\\t3', 'Akhmed_Zakayev\\t2\\t3', 'Amber_Tamblyn\\t1\\t2'])\n"
     ]
    }
   ],
   "source": [
    "print(len(s),s[:5])\n",
    "set_num = int(s[0].split('\\t')[1])\n",
    "s = s[1:]"
   ]
  },
  {
   "cell_type": "code",
   "execution_count": 3,
   "metadata": {
    "collapsed": false,
    "deletable": true,
    "editable": true
   },
   "outputs": [],
   "source": [
    "import numpy as np\n",
    "import cv2\n",
    "s = iter(s)"
   ]
  },
  {
   "cell_type": "code",
   "execution_count": 4,
   "metadata": {
    "collapsed": true,
    "deletable": true,
    "editable": true
   },
   "outputs": [],
   "source": [
    "def get_img(name, img_id):\n",
    "    file_name = '../lfw/%s/%s_%s.jpg' % (name, name, str(img_id).zfill(4))\n",
    "    img = cv2.imread(file_name)\n",
    "    img = cv2.cvtColor(img, cv2.COLOR_BGR2GRAY)\n",
    "    img = cv2.resize(img, (160, 160)).reshape(1, 160, 160)\n",
    "    return img"
   ]
  },
  {
   "cell_type": "code",
   "execution_count": 5,
   "metadata": {
    "collapsed": true,
    "deletable": true,
    "editable": true
   },
   "outputs": [],
   "source": [
    "matched_pairs = []\n",
    "for line in range(set_num):\n",
    "    name, id1, id2 = next(s).split('\\t')\n",
    "    img1 = get_img(name, int(id1))\n",
    "    img2 = get_img(name, int(id2))\n",
    "    matched_pairs.append((img1, img2))"
   ]
  },
  {
   "cell_type": "code",
   "execution_count": 6,
   "metadata": {
    "collapsed": true,
    "deletable": true,
    "editable": true
   },
   "outputs": [],
   "source": [
    "not_matched_pairs = []\n",
    "for line in range(set_num):\n",
    "    name1, id1, name2, id2 = next(s).split('\\t')\n",
    "    img1 = get_img(name1, int(id1))\n",
    "    img2 = get_img(name2, int(id2))\n",
    "    not_matched_pairs.append((img1, img2))"
   ]
  },
  {
   "cell_type": "code",
   "execution_count": 7,
   "metadata": {
    "collapsed": false,
    "deletable": true,
    "editable": true
   },
   "outputs": [],
   "source": [
    "import cPickle as pickle\n",
    "import os\n",
    "def write_data(data, filename):\n",
    "    filename = os.path.join('./', filename)\n",
    "    with open(filename, 'w') as f:\n",
    "        data = pickle.dump(data, f)"
   ]
  },
  {
   "cell_type": "code",
   "execution_count": 8,
   "metadata": {
    "collapsed": true,
    "deletable": true,
    "editable": true
   },
   "outputs": [],
   "source": [
    "names = write_data(not_matched_pairs, '../datasets/test_set_not_matched')"
   ]
  },
  {
   "cell_type": "code",
   "execution_count": 9,
   "metadata": {
    "collapsed": true,
    "deletable": true,
    "editable": true
   },
   "outputs": [],
   "source": [
    "names = write_data(matched_pairs, '../datasets/test_set')"
   ]
  }
 ],
 "metadata": {
  "kernelspec": {
   "display_name": "Python 2",
   "language": "python",
   "name": "python2"
  },
  "language_info": {
   "codemirror_mode": {
    "name": "ipython",
    "version": 2
   },
   "file_extension": ".py",
   "mimetype": "text/x-python",
   "name": "python",
   "nbconvert_exporter": "python",
   "pygments_lexer": "ipython2",
   "version": "2.7.12"
  }
 },
 "nbformat": 4,
 "nbformat_minor": 2
}
