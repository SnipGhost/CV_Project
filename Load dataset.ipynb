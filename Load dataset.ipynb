{
 "cells": [
  {
   "cell_type": "code",
   "execution_count": 1,
   "metadata": {},
   "outputs": [
    {
     "name": "stdout",
     "output_type": "stream",
     "text": [
      "--2017-05-28 14:13:39--  http://vis-www.cs.umass.edu/lfw/people.txt\n",
      "Resolving vis-www.cs.umass.edu (vis-www.cs.umass.edu)... 128.119.244.95\n",
      "Connecting to vis-www.cs.umass.edu (vis-www.cs.umass.edu)|128.119.244.95|:80... connected.\n",
      "HTTP request sent, awaiting response... 200 OK\n",
      "Length: 94770 (93K) [text/plain]\n",
      "Saving to: ‘people.txt’\n",
      "\n",
      "people.txt          100%[===================>]  92,55K   254KB/s    in 0,4s    \n",
      "\n",
      "2017-05-28 14:13:40 (254 KB/s) - ‘people.txt’ saved [94770/94770]\n",
      "\n",
      "--2017-05-28 14:13:40--  http://vis-www.cs.umass.edu/lfw/pairs.txt\n",
      "Resolving vis-www.cs.umass.edu (vis-www.cs.umass.edu)... 128.119.244.95\n",
      "Connecting to vis-www.cs.umass.edu (vis-www.cs.umass.edu)|128.119.244.95|:80... connected.\n",
      "HTTP request sent, awaiting response... 200 OK\n",
      "Length: 155335 (152K) [text/plain]\n",
      "Saving to: ‘pairs.txt’\n",
      "\n",
      "pairs.txt           100%[===================>] 151,69K   398KB/s    in 0,4s    \n",
      "\n",
      "2017-05-28 14:13:41 (398 KB/s) - ‘pairs.txt’ saved [155335/155335]\n",
      "\n",
      "--2017-05-28 14:13:41--  http://vis-www.cs.umass.edu/lfw/lfw.tgz\n",
      "Resolving vis-www.cs.umass.edu (vis-www.cs.umass.edu)... 128.119.244.95\n",
      "Connecting to vis-www.cs.umass.edu (vis-www.cs.umass.edu)|128.119.244.95|:80... connected.\n",
      "HTTP request sent, awaiting response... 200 OK\n",
      "Length: 180566744 (172M) [application/x-gzip]\n",
      "Saving to: ‘lfw.tgz’\n",
      "\n",
      "lfw.tgz             100%[===================>] 172,20M   850KB/s    in 82s     \n",
      "\n",
      "2017-05-28 14:15:03 (2,10 MB/s) - ‘lfw.tgz’ saved [180566744/180566744]\n",
      "\n"
     ]
    }
   ],
   "source": [
    "!wget http://vis-www.cs.umass.edu/lfw/people.txt\n",
    "!wget http://vis-www.cs.umass.edu/lfw/pairs.txt\n",
    "!wget http://vis-www.cs.umass.edu/lfw/lfw.tgz"
   ]
  },
  {
   "cell_type": "code",
   "execution_count": 1,
   "metadata": {
    "collapsed": true
   },
   "outputs": [],
   "source": [
    "import numpy as np\n",
    "import cv2"
   ]
  },
  {
   "cell_type": "code",
   "execution_count": 2,
   "metadata": {},
   "outputs": [
    {
     "name": "stdout",
     "output_type": "stream",
     "text": [
      "601\n",
      "555\n",
      "552\n",
      "560\n",
      "567\n",
      "527\n",
      "597\n",
      "601\n",
      "580\n",
      "609\n"
     ]
    }
   ],
   "source": [
    "with open('people.txt') as f:\n",
    "    s = f.read().split('\\n')\n",
    "n = int(s[0])\n",
    "s = s[1:]\n",
    "s = iter(s) #behaves like a file object\n",
    "k = 0\n",
    "X_train, y_train = [], []\n",
    "X_test, y_test = [], []\n",
    "# names = dict()\n",
    "for i in range(n):\n",
    "    set_num = int(next(s))\n",
    "    print(set_num)\n",
    "    for line in range(set_num):\n",
    "        name, idx = next(s).split('\\t')\n",
    "#         names[name] = k\n",
    "        for j in range(1, int(idx) + 1):\n",
    "            file_name = 'lfw/%s/%s_%s.jpg' % (name, name, str(j).zfill(4))\n",
    "            img = cv2.imread(file_name)\n",
    "            img = cv2.cvtColor(img, cv2.COLOR_BGR2GRAY)\n",
    "            img = cv2.resize(img, (160, 160)).reshape(3, 160, 160)\n",
    "            if i < n - 1:\n",
    "                X_train.append(img)\n",
    "                y_train.append(k)\n",
    "            else:\n",
    "                X_test.append(img)\n",
    "                y_test.append(k)\n",
    "        k += 1"
   ]
  },
  {
   "cell_type": "code",
   "execution_count": 4,
   "metadata": {
    "collapsed": true
   },
   "outputs": [],
   "source": [
    "# import cPickle as pickle\n",
    "# import os\n",
    "# def write_data(data, filename):\n",
    "#     filename = os.path.join('./', filename)\n",
    "#     with open(filename, 'w') as f:\n",
    "#         pickle.dump(data, f)\n",
    "# write_data(names, 'datasets/name_dict')"
   ]
  },
  {
   "cell_type": "code",
   "execution_count": 3,
   "metadata": {
    "collapsed": true
   },
   "outputs": [],
   "source": [
    "# X_train = np.array(X_train)\n",
    "X_train, y_train = np.array(X_train), np.array(y_train)\n",
    "X_test, y_test = np.array(X_test), np.array(y_test)"
   ]
  },
  {
   "cell_type": "code",
   "execution_count": 4,
   "metadata": {
    "collapsed": true
   },
   "outputs": [],
   "source": [
    "from sklearn.utils import shuffle\n",
    "X_train, y_train = shuffle(X_train, y_train)\n",
    "X_test, y_test = shuffle(X_test, y_test)"
   ]
  },
  {
   "cell_type": "code",
   "execution_count": 6,
   "metadata": {
    "collapsed": true
   },
   "outputs": [],
   "source": [
    "np.savez('data_set160_dim3.npz', X_train=X_train, y_train=y_train, X_test=X_test, y_test=y_test)"
   ]
  },
  {
   "cell_type": "code",
   "execution_count": null,
   "metadata": {
    "collapsed": true
   },
   "outputs": [],
   "source": [
    "print(X_train.shape, y_train.shape)\n",
    "print(X_test.shape, y_test.shape)\n",
    "print(y_train[:10])\n",
    "import matplotlib.pyplot as plt\n",
    "%matplotlib inline\n",
    "plt.imshow(X_train[10][0], cmap='gray')"
   ]
  }
 ],
 "metadata": {
  "kernelspec": {
   "display_name": "Python 2",
   "language": "python",
   "name": "python2"
  },
  "language_info": {
   "codemirror_mode": {
    "name": "ipython",
    "version": 3
   },
   "file_extension": ".py",
   "mimetype": "text/x-python",
   "name": "python",
   "nbconvert_exporter": "python",
   "pygments_lexer": "ipython3",
   "version": "3.5.2"
  }
 },
 "nbformat": 4,
 "nbformat_minor": 2
}
