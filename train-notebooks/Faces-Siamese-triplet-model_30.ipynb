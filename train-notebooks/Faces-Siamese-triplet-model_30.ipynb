{
 "cells": [
  {
   "cell_type": "markdown",
   "metadata": {
    "deletable": true,
    "editable": true,
    "toc": "true"
   },
   "source": [
    "# Table of Contents\n",
    " <p><div class=\"lev1 toc-item\"><a href=\"#Собираем-сиамскую-сеть\" data-toc-modified-id=\"Собираем-сиамскую-сеть-1\"><span class=\"toc-item-num\">1&nbsp;&nbsp;</span>Собираем сиамскую сеть</a></div><div class=\"lev1 toc-item\"><a href=\"#Проверяем-глубокое-представление\" data-toc-modified-id=\"Проверяем-глубокое-представление-2\"><span class=\"toc-item-num\">2&nbsp;&nbsp;</span>Проверяем глубокое представление</a></div>"
   ]
  },
  {
   "cell_type": "code",
   "execution_count": 1,
   "metadata": {
    "collapsed": true,
    "deletable": true,
    "editable": true
   },
   "outputs": [],
   "source": [
    "import numpy as np\n",
    "import lasagne\n",
    "import theano\n",
    "import theano.tensor as T\n",
    "from lasagne.nonlinearities import rectify, sigmoid, linear, tanh\n",
    "from lasagne.layers import InputLayer, DenseLayer, BatchNormLayer, Upscale2DLayer, NonlinearityLayer, ReshapeLayer\n",
    "from lasagne.layers import Conv2DLayer, MaxPool2DLayer, dropout\n",
    "\n",
    "import matplotlib.pyplot as plt\n",
    "%matplotlib inline\n",
    "\n",
    "# import gzip, pickle"
   ]
  },
  {
   "cell_type": "code",
   "execution_count": 2,
   "metadata": {
    "collapsed": true,
    "deletable": true,
    "editable": true
   },
   "outputs": [],
   "source": [
    "# Seed for reproducibility\n",
    "np.random.seed(42)"
   ]
  },
  {
   "cell_type": "code",
   "execution_count": 3,
   "metadata": {
    "collapsed": false,
    "deletable": true,
    "editable": true
   },
   "outputs": [],
   "source": [
    "files = np.load('data_set160.npz')\n",
    "X_train, y_train, X_val, y_val = files['X_train'], files['y_train'], files['X_test'], files['y_test']\n",
    "# Load training and test splits as numpy arrays\n",
    "# train, val, test = pickle.load(gzip.open('mnist.pkl.gz'))\n",
    "\n",
    "# X_train, y_train = train\n",
    "# X_val, y_val = val"
   ]
  },
  {
   "cell_type": "code",
   "execution_count": 4,
   "metadata": {
    "collapsed": false,
    "deletable": true,
    "editable": true
   },
   "outputs": [
    {
     "name": "stdout",
     "output_type": "stream",
     "text": [
      "((11450, 1, 160, 160), (1783, 1, 160, 160))\n"
     ]
    }
   ],
   "source": [
    "second_dim = 1\n",
    "img_size = 160\n",
    "print(X_train.shape, X_val.shape)\n",
    "\n",
    "# second_dim = 1\n",
    "# img_size = 28\n",
    "# X_train = X_train.reshape([-1,1,28,28])\n",
    "# X_val = X_val.reshape([-1,1,28,28])"
   ]
  },
  {
   "cell_type": "markdown",
   "metadata": {
    "deletable": true,
    "editable": true
   },
   "source": [
    "# Собираем сиамскую сеть"
   ]
  },
  {
   "cell_type": "code",
   "execution_count": 5,
   "metadata": {
    "collapsed": true,
    "deletable": true,
    "editable": true
   },
   "outputs": [],
   "source": [
    "input_image_left  = T.tensor4('input_left')\n",
    "input_image_positive = T.tensor4('input_positive')\n",
    "input_image_negative = T.tensor4('input_negative')"
   ]
  },
  {
   "cell_type": "code",
   "execution_count": 6,
   "metadata": {
    "collapsed": false,
    "deletable": true,
    "editable": true
   },
   "outputs": [],
   "source": [
    "l_input = InputLayer(shape=(None, second_dim, img_size, img_size), input_var=input_image_left)\n",
    "p_input = InputLayer(shape=(None, second_dim, img_size, img_size), input_var=input_image_positive)\n",
    "n_input = InputLayer(shape=(None, second_dim, img_size, img_size), input_var=input_image_negative)"
   ]
  },
  {
   "cell_type": "code",
   "execution_count": 7,
   "metadata": {
    "collapsed": true,
    "deletable": true,
    "editable": true
   },
   "outputs": [],
   "source": [
    "conv1_filter_size = 3\n",
    "conv1_num_filters = 64\n",
    "conv1_pad = 1\n",
    "conv1_stride = 1\n",
    "\n",
    "conv2_filter_size = 3\n",
    "conv2_num_filters = 128\n",
    "conv2_pad = 1\n",
    "conv2_stride = 1\n",
    "\n",
    "conv3_filter_size = 3\n",
    "conv3_num_filters = 256\n",
    "conv3_stride = 1\n",
    "conv3_pad = 1\n",
    "\n",
    "conv4_filter_size = 3\n",
    "conv4_num_filters = 512\n",
    "conv4_stride = 1\n",
    "conv4_pad = 1\n",
    "\n",
    "conv5_filter_size = 3\n",
    "conv5_num_filters = 512\n",
    "conv5_stride = 1\n",
    "conv5_pad = 1\n",
    "\n",
    "pool1_size = 2\n",
    "pool2_size = 2\n",
    "pool3_size = 2\n",
    "pool4_size = 2\n",
    "pool5_size = 2\n",
    "\n",
    "dense_layer1_size = 1024\n",
    "dense_layer2_size = 512"
   ]
  },
  {
   "cell_type": "code",
   "execution_count": 8,
   "metadata": {
    "collapsed": false,
    "deletable": true,
    "editable": true
   },
   "outputs": [],
   "source": [
    "my_nonlin = rectify\n",
    "net = Conv2DLayer(l_input, conv1_num_filters, conv1_filter_size, pad=conv1_pad, stride=conv1_stride,\n",
    "                  nonlinearity=my_nonlin,\n",
    "                  W=lasagne.init.GlorotUniform())\n",
    "net = MaxPool2DLayer(net, pool1_size)\n",
    "net = Conv2DLayer(net, conv2_num_filters, conv2_filter_size, pad=conv2_pad, stride=conv2_stride,\n",
    "                  nonlinearity=my_nonlin)\n",
    "net = MaxPool2DLayer(net, pool2_size)\n",
    "net = Conv2DLayer(net, conv3_num_filters, conv3_filter_size, pad=conv3_pad, stride=conv3_stride,\n",
    "                  nonlinearity=my_nonlin)\n",
    "net = MaxPool2DLayer(net, pool3_size)\n",
    "net = Conv2DLayer(net, conv4_num_filters, conv4_filter_size, pad=conv4_pad, stride=conv4_stride,\n",
    "                  nonlinearity=my_nonlin)\n",
    "net = MaxPool2DLayer(net, pool4_size)\n",
    "net = Conv2DLayer(net, conv5_num_filters, conv5_filter_size, pad=conv5_pad, stride=conv5_stride,\n",
    "                  nonlinearity=my_nonlin)\n",
    "net = MaxPool2DLayer(net, pool5_size)\n",
    "net = DenseLayer(dropout(net, p=.5), num_units=dense_layer1_size, nonlinearity=my_nonlin)\n",
    "nn_l_out = DenseLayer(dropout(net, p=.5), num_units=dense_layer2_size, nonlinearity=my_nonlin)"
   ]
  },
  {
   "cell_type": "code",
   "execution_count": 9,
   "metadata": {
    "collapsed": false,
    "deletable": true,
    "editable": true
   },
   "outputs": [
    {
     "data": {
      "text/plain": [
       "[W, b, W, b, W, b, W, b, W, b, W, b, W, b]"
      ]
     },
     "execution_count": 9,
     "metadata": {},
     "output_type": "execute_result"
    }
   ],
   "source": [
    "l_params = lasagne.layers.get_all_params(nn_l_out)\n",
    "l_params"
   ]
  },
  {
   "cell_type": "code",
   "execution_count": 10,
   "metadata": {
    "collapsed": false,
    "deletable": true,
    "editable": true
   },
   "outputs": [],
   "source": [
    "net = Conv2DLayer(p_input, conv1_num_filters, conv1_filter_size, pad=conv1_pad, stride=conv1_stride, nonlinearity=my_nonlin,\n",
    "                      W=l_params[0], b=l_params[1])\n",
    "net = MaxPool2DLayer(net, pool1_size)\n",
    "net = Conv2DLayer(net, conv2_num_filters, conv2_filter_size, pad=conv2_pad, stride=conv2_stride, nonlinearity=my_nonlin,\n",
    "                  W=l_params[2], b=l_params[3])\n",
    "net = MaxPool2DLayer(net, pool2_size)\n",
    "net = Conv2DLayer(net, conv3_num_filters, conv3_filter_size, pad=conv3_pad, stride=conv3_stride, nonlinearity=my_nonlin,\n",
    "                  W=l_params[4], b=l_params[5])\n",
    "net = MaxPool2DLayer(net, pool3_size)\n",
    "net = Conv2DLayer(net, conv4_num_filters, conv4_filter_size, pad=conv4_pad, stride=conv4_stride,\n",
    "                  nonlinearity=my_nonlin,\n",
    "                  W=l_params[6], b=l_params[7])\n",
    "net = MaxPool2DLayer(net, pool4_size)\n",
    "net = Conv2DLayer(net, conv5_num_filters, conv5_filter_size, pad=conv5_pad, stride=conv5_stride,\n",
    "                  nonlinearity=my_nonlin,\n",
    "                  W=l_params[8], b=l_params[9])\n",
    "net = MaxPool2DLayer(net, pool5_size)\n",
    "net = DenseLayer(dropout(net, p=0.5), num_units=dense_layer1_size, nonlinearity=my_nonlin,\n",
    "                 W=l_params[10], b=l_params[11])\n",
    "nn_p_out = DenseLayer(dropout(net, p=0.5), num_units=dense_layer2_size, nonlinearity=my_nonlin,\n",
    "                 W=l_params[12], b=l_params[13])"
   ]
  },
  {
   "cell_type": "code",
   "execution_count": 11,
   "metadata": {
    "collapsed": false,
    "deletable": true,
    "editable": true
   },
   "outputs": [],
   "source": [
    "net = Conv2DLayer(n_input, conv1_num_filters, conv1_filter_size, pad=conv1_pad, stride=conv1_stride,\n",
    "                      nonlinearity=my_nonlin,\n",
    "                      W=l_params[0], b=l_params[1])\n",
    "net = MaxPool2DLayer(net, pool1_size)\n",
    "net = Conv2DLayer(net, conv2_num_filters, conv2_filter_size, pad=conv2_pad, stride=conv2_stride,\n",
    "                  nonlinearity=my_nonlin,\n",
    "                  W=l_params[2], b=l_params[3])\n",
    "net = MaxPool2DLayer(net, pool2_size)\n",
    "net = Conv2DLayer(net, conv3_num_filters, conv3_filter_size, pad=conv3_pad, stride=conv3_stride,\n",
    "                  nonlinearity=my_nonlin,\n",
    "                  W=l_params[4], b=l_params[5])\n",
    "net = MaxPool2DLayer(net, pool3_size)\n",
    "net = Conv2DLayer(net, conv4_num_filters, conv4_filter_size, pad=conv4_pad, stride=conv4_stride,\n",
    "                  nonlinearity=my_nonlin,\n",
    "                  W=l_params[6], b=l_params[7])\n",
    "net = MaxPool2DLayer(net, pool4_size)\n",
    "net = Conv2DLayer(net, conv5_num_filters, conv5_filter_size, pad=conv5_pad, stride=conv5_stride,\n",
    "                  nonlinearity=my_nonlin,\n",
    "                  W=l_params[8], b=l_params[9])\n",
    "net = MaxPool2DLayer(net, pool5_size)\n",
    "net = DenseLayer(dropout(net, p=0.5), num_units=dense_layer1_size, nonlinearity=my_nonlin,\n",
    "                 W=l_params[10], b=l_params[11])\n",
    "nn_n_out = DenseLayer(dropout(net, p=0.5), num_units=dense_layer2_size, nonlinearity=my_nonlin,\n",
    "                      W=l_params[12], b=l_params[13])"
   ]
  },
  {
   "cell_type": "code",
   "execution_count": 12,
   "metadata": {
    "collapsed": true,
    "deletable": true,
    "editable": true
   },
   "outputs": [],
   "source": [
    "nn_merge = lasagne.layers.concat([nn_l_out, nn_p_out, nn_n_out], axis=1)"
   ]
  },
  {
   "cell_type": "code",
   "execution_count": 13,
   "metadata": {
    "collapsed": true,
    "deletable": true,
    "editable": true
   },
   "outputs": [],
   "source": [
    "nn_out  = lasagne.layers.get_output(nn_merge, deterministic=False)\n",
    "nn_out_test  = lasagne.layers.get_output(nn_merge, deterministic=True)\n",
    "nn_out_left = nn_out[:, :dense_layer2_size]\n",
    "nn_out_positive = nn_out[:, dense_layer2_size:dense_layer1_size]\n",
    "nn_out_negative = nn_out[:, dense_layer1_size:]\n",
    "\n",
    "nn_out_left_test = nn_out_test[:, :dense_layer2_size]\n",
    "nn_out_positive_test = nn_out_test[:, dense_layer2_size:dense_layer1_size]\n",
    "nn_out_negative_test = nn_out_test[:, dense_layer1_size:]"
   ]
  },
  {
   "cell_type": "code",
   "execution_count": 14,
   "metadata": {
    "collapsed": true,
    "deletable": true,
    "editable": true
   },
   "outputs": [],
   "source": [
    "a = T.scalar()\n",
    "\n",
    "d1 = T.sum(T.sqr(nn_out_left - nn_out_positive), axis=1)\n",
    "d2 = T.sum(T.sqr(nn_out_left - nn_out_negative), axis=1)\n",
    "\n",
    "loss = T.sum(T.maximum(T.sqr(d1) - T.sqr(d2) + a, 0.))"
   ]
  },
  {
   "cell_type": "code",
   "execution_count": 15,
   "metadata": {
    "collapsed": true,
    "deletable": true,
    "editable": true
   },
   "outputs": [],
   "source": [
    "d1_test = T.sum(T.sqr(nn_out_left_test - nn_out_positive_test), axis=1)\n",
    "d2_test = T.sum(T.sqr(nn_out_left_test - nn_out_negative_test), axis=1)\n",
    "\n",
    "test_loss = T.sum(T.maximum(T.sqr(d1_test) - T.sqr(d2_test) + a, 0.))"
   ]
  },
  {
   "cell_type": "code",
   "execution_count": 16,
   "metadata": {
    "collapsed": false,
    "deletable": true,
    "editable": true
   },
   "outputs": [],
   "source": [
    "params = lasagne.layers.get_all_params(nn_merge)\n",
    "# updates = lasagne.updates.rmsprop(loss, params)\n",
    "updates = lasagne.updates.adamax(loss, params)\n",
    "# updates = lasagne.updates.nesterov_momentum(loss, params, 0.01)"
   ]
  },
  {
   "cell_type": "code",
   "execution_count": 17,
   "metadata": {
    "collapsed": false,
    "deletable": true,
    "editable": true
   },
   "outputs": [],
   "source": [
    "train_fn = theano.function([input_image_left, input_image_positive, input_image_negative, a], loss, \n",
    "                           updates=updates, allow_input_downcast=True)\n",
    "val_fn = theano.function([input_image_left, input_image_positive, input_image_negative, a], test_loss, \n",
    "                         updates=updates, allow_input_downcast=True)"
   ]
  },
  {
   "cell_type": "code",
   "execution_count": 18,
   "metadata": {
    "collapsed": true,
    "deletable": true,
    "editable": true
   },
   "outputs": [],
   "source": [
    "def iterate_minibatches(inputs, targets, batchs_per_epoch=100, batchsize=20, train=True, shuffle=False):\n",
    "    assert len(inputs) == len(targets)\n",
    "\n",
    "    left_indices = np.arange(len(inputs))\n",
    "    \n",
    "    if shuffle:\n",
    "        np.random.shuffle(left_indices)\n",
    "        \n",
    "    for _ in range(batchs_per_epoch):\n",
    "        full_lft_indxs = []\n",
    "        full_pos_indxs = []\n",
    "        full_neg_indxs = []\n",
    "        \n",
    "        for _ in range(batchsize):\n",
    "            start_idx = np.random.randint(low=0, high=len(left_indices))\n",
    "            full_lft_indxs.append(start_idx)\n",
    "            \n",
    "            pos_idxs = np.where(targets == targets[start_idx])[0]\n",
    "            b_idxs = np.random.randint(low=0, high=len(pos_idxs), size=1)\n",
    "            full_pos_indxs.append(pos_idxs[b_idxs[0]])\n",
    "            \n",
    "            neg_idxs = np.where(targets != targets[start_idx])[0]\n",
    "            b_idxs = np.random.randint(low=0, high=len(neg_idxs), size=1)\n",
    "            full_neg_indxs.append(neg_idxs[b_idxs[0]])\n",
    "\n",
    "        full_lft_indxs = np.array(full_lft_indxs)\n",
    "        full_pos_indxs = np.array(full_pos_indxs)\n",
    "        full_neg_indxs = np.array(full_neg_indxs)\n",
    "        \n",
    "        yield inputs[full_lft_indxs], inputs[full_pos_indxs], inputs[full_neg_indxs]"
   ]
  },
  {
   "cell_type": "code",
   "execution_count": 39,
   "metadata": {
    "collapsed": true,
    "deletable": true,
    "editable": true
   },
   "outputs": [],
   "source": [
    "num_epochs = 300\n",
    "train_errors = []\n",
    "val_errors = []\n",
    "epoch = 0\n",
    "batch_size = 20\n",
    "batchs_per_epoch = 5\n",
    "\n",
    "margin = 1.242"
   ]
  },
  {
   "cell_type": "code",
   "execution_count": null,
   "metadata": {
    "collapsed": false,
    "deletable": true,
    "editable": true,
    "scrolled": true
   },
   "outputs": [
    {
     "name": "stdout",
     "output_type": "stream",
     "text": [
      "23.8220596313\n",
      "Epoch 6 of 300 took 394.284s\n",
      "  training loss:\t\t37.764603\n",
      "  validation loss:\t\t24.707480\n",
      "33.5457801819\n",
      "Epoch 7 of 300 took 395.804s\n",
      "  training loss:\t\t37.529090\n",
      "  validation loss:\t\t24.755358\n",
      "31.9591236115\n",
      "Epoch 8 of 300 took 397.203s\n",
      "  training loss:\t\t26.507192\n",
      "  validation loss:\t\t24.819479\n",
      "30.6945457458\n",
      "Epoch 9 of 300 took 398.210s\n",
      "  training loss:\t\t30.991736\n",
      "  validation loss:\t\t24.839143\n",
      "35.0079879761\n",
      "Epoch 10 of 300 took 398.387s\n",
      "  training loss:\t\t27.210571\n",
      "  validation loss:\t\t24.831343\n",
      "34.8563842773\n",
      "Epoch 11 of 300 took 399.331s\n",
      "  training loss:\t\t27.218229\n",
      "  validation loss:\t\t24.827748\n",
      "30.1255245209\n",
      "Epoch 12 of 300 took 396.997s\n",
      "  training loss:\t\t29.228319\n",
      "  validation loss:\t\t24.834935\n",
      "35.1418571472\n",
      "Epoch 13 of 300 took 392.808s\n",
      "  training loss:\t\t27.206202\n",
      "  validation loss:\t\t24.839305\n",
      "42.5387496948\n",
      "Epoch 14 of 300 took 395.246s\n",
      "  training loss:\t\t27.385876\n",
      "  validation loss:\t\t24.846053\n",
      "28.468000412\n",
      "Epoch 15 of 300 took 392.842s\n",
      "  training loss:\t\t29.096862\n",
      "  validation loss:\t\t24.834546\n",
      "20.6832675934\n",
      "Epoch 16 of 300 took 392.771s\n",
      "  training loss:\t\t27.361413\n",
      "  validation loss:\t\t24.832884\n",
      "23.9167804718\n",
      "Epoch 17 of 300 took 389.630s\n",
      "  training loss:\t\t29.388623\n",
      "  validation loss:\t\t24.839767\n",
      "23.7752113342\n",
      "Epoch 18 of 300 took 393.699s\n",
      "  training loss:\t\t27.061018\n",
      "  validation loss:\t\t24.839552\n",
      "20.3725700378\n",
      "Epoch 19 of 300 took 390.991s\n",
      "  training loss:\t\t22.918243\n",
      "  validation loss:\t\t24.837437\n",
      "20.2247238159\n",
      "Epoch 20 of 300 took 393.707s\n",
      "  training loss:\t\t26.585592\n",
      "  validation loss:\t\t24.828859\n",
      "25.5905971527\n",
      "Epoch 21 of 300 took 393.569s\n",
      "  training loss:\t\t27.093154\n",
      "  validation loss:\t\t24.826771\n",
      "26.0837154388\n",
      "Epoch 22 of 300 took 393.526s\n",
      "  training loss:\t\t26.698772\n",
      "  validation loss:\t\t24.834159\n",
      "25.9531993866\n",
      "Epoch 23 of 300 took 392.019s\n",
      "  training loss:\t\t24.024158\n",
      "  validation loss:\t\t24.837500\n",
      "25.7450561523\n",
      "Epoch 24 of 300 took 400.347s\n",
      "  training loss:\t\t26.059102\n",
      "  validation loss:\t\t24.837971\n",
      "23.8238773346\n",
      "Epoch 25 of 300 took 396.802s\n",
      "  training loss:\t\t25.799047\n",
      "  validation loss:\t\t24.835752\n",
      "32.3020095825\n",
      "Epoch 26 of 300 took 400.569s\n",
      "  training loss:\t\t26.853318\n",
      "  validation loss:\t\t24.838951\n",
      "25.7131500244\n",
      "Epoch 27 of 300 took 394.674s\n",
      "  training loss:\t\t24.963745\n",
      "  validation loss:\t\t24.834049\n",
      "26.3182964325\n",
      "Epoch 28 of 300 took 397.070s\n",
      "  training loss:\t\t27.054179\n",
      "  validation loss:\t\t24.839595\n",
      "24.4121379852\n",
      "Epoch 29 of 300 took 392.557s\n",
      "  training loss:\t\t25.199295\n",
      "  validation loss:\t\t24.838423\n",
      "23.1001052856\n"
     ]
    }
   ],
   "source": [
    "import time\n",
    "\n",
    "for epoch in range(epoch, num_epochs):\n",
    "    train_err = 0\n",
    "    train_batches = 0\n",
    "    start_time = time.time()\n",
    "    for batch in iterate_minibatches(X_train, y_train, batchs_per_epoch=batchs_per_epoch,\n",
    "                                     batchsize=batch_size, train=True, shuffle=True):\n",
    "        inputs_left, inputs_positive, inputs_negative = batch\n",
    "        err = train_fn(inputs_left, inputs_positive, inputs_negative, margin)\n",
    "        train_err += err\n",
    "        train_batches += 1\n",
    "    print(err)\n",
    "\n",
    "    val_err = 0\n",
    "    val_acc = 0\n",
    "    val_batches = 0\n",
    "    for batch in iterate_minibatches(X_val, y_val, batchs_per_epoch=batchs_per_epoch,\n",
    "                                     batchsize=batch_size, train=False, shuffle=True):\n",
    "        inputs_left, inputs_positive, inputs_negative = batch\n",
    "        err = val_fn(inputs_left, inputs_positive, inputs_negative, margin)\n",
    "        val_err += err\n",
    "        val_batches += 1\n",
    "\n",
    "    print(\"Epoch {} of {} took {:.3f}s\".format(\n",
    "        epoch + 1, num_epochs, time.time() - start_time))\n",
    "    print(\"  training loss:\\t\\t{:.6f}\".format(train_err / train_batches))\n",
    "    print(\"  validation loss:\\t\\t{:.6f}\".format(val_err / val_batches))\n",
    "    train_errors.append(train_err / train_batches)\n",
    "    val_errors.append(val_err / val_batches)"
   ]
  },
  {
   "cell_type": "code",
   "execution_count": 44,
   "metadata": {
    "collapsed": false,
    "deletable": true,
    "editable": true
   },
   "outputs": [
    {
     "data": {
      "image/png": "[encoded data removed]",
      "text/plain": [
       "<matplotlib.figure.Figure at 0x7f2ba26dded0>"
      ]
     },
     "metadata": {},
     "output_type": "display_data"
    }
   ],
   "source": [
    "plt.plot(train_errors, 'r')\n",
    "plt.plot(val_errors, 'b')\n",
    "plt.show()"
   ]
  },
  {
   "cell_type": "code",
   "execution_count": 49,
   "metadata": {
    "collapsed": false,
    "deletable": true,
    "editable": true
   },
   "outputs": [],
   "source": [
    "import cPickle as pickle\n",
    "import os\n",
    "\n",
    "import lasagne as nn\n",
    "\n",
    "def write_model_data(model, filename):\n",
    "    \"\"\"Pickels the parameters within a Lasagne model.\"\"\"\n",
    "    PARAM_EXTENSION = 'params'\n",
    "    data = nn.layers.get_all_param_values(model)\n",
    "    filename = os.path.join('./', filename)\n",
    "    filename = '%s.%s' % (filename, PARAM_EXTENSION)\n",
    "    with open(filename, 'w') as f:\n",
    "        pickle.dump(data, f)\n",
    "        \n",
    "write_model_data(nn_merge, 'model_30.05_00:01')"
   ]
  },
  {
   "cell_type": "code",
   "execution_count": 50,
   "metadata": {
    "collapsed": false,
    "deletable": true,
    "editable": true
   },
   "outputs": [
    {
     "name": "stdout",
     "output_type": "stream",
     "text": [
      "68\n"
     ]
    }
   ],
   "source": [
    "print epoch"
   ]
  },
  {
   "cell_type": "code",
   "execution_count": null,
   "metadata": {
    "collapsed": true,
    "deletable": true,
    "editable": true
   },
   "outputs": [],
   "source": []
  },
  {
   "cell_type": "code",
   "execution_count": null,
   "metadata": {
    "collapsed": true,
    "deletable": true,
    "editable": true
   },
   "outputs": [],
   "source": []
  }
 ],
 "metadata": {
  "kernelspec": {
   "display_name": "Python 2",
   "language": "python",
   "name": "python2"
  },
  "language_info": {
   "codemirror_mode": {
    "name": "ipython",
    "version": 2
   },
   "file_extension": ".py",
   "mimetype": "text/x-python",
   "name": "python",
   "nbconvert_exporter": "python",
   "pygments_lexer": "ipython2",
   "version": "2.7.12"
  },
  "toc": {
   "colors": {
    "hover_highlight": "#DAA520",
    "navigate_num": "#000000",
    "navigate_text": "#333333",
    "running_highlight": "#FF0000",
    "selected_highlight": "#FFD700",
    "sidebar_border": "#EEEEEE",
    "wrapper_background": "#FFFFFF"
   },
   "moveMenuLeft": true,
   "nav_menu": {
    "height": "60px",
    "width": "252px"
   },
   "navigate_menu": true,
   "number_sections": true,
   "sideBar": true,
   "threshold": 4,
   "toc_cell": true,
   "toc_section_display": "block",
   "toc_window_display": false,
   "widenNotebook": false
  }
 },
 "nbformat": 4,
 "nbformat_minor": 1
}
