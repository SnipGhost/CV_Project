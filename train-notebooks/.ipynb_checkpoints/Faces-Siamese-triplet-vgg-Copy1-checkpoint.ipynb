{
 "cells": [
  {
   "cell_type": "markdown",
   "metadata": {
    "deletable": true,
    "editable": true
   },
   "source": [
    "# Собираем сиамскую сеть"
   ]
  },
  {
   "cell_type": "code",
   "execution_count": 1,
   "metadata": {
    "collapsed": false,
    "deletable": true,
    "editable": true
   },
   "outputs": [],
   "source": [
    "#==================================================================================================\n",
    "# Classic model\n",
    "#\n",
    "# X -> [CONV->CONV->POOL]x5 -> DENSE -> DENSE -> Y\n",
    "#==================================================================================================\n",
    "import numpy as np\n",
    "import lasagne\n",
    "import theano\n",
    "import theano.tensor as T\n",
    "from lasagne.nonlinearities import rectify, sigmoid, linear, tanh\n",
    "from lasagne.layers import InputLayer, DenseLayer, BatchNormLayer, \\\n",
    "                           Upscale2DLayer, NonlinearityLayer, ReshapeLayer\n",
    "from lasagne.layers import Conv2DLayer, MaxPool2DLayer, dropout\n",
    "#==================================================================================================\n",
    "np.random.seed(12)\n",
    "#==================================================================================================\n",
    "# CONST\n",
    "#--------------------------------------------------------------------------------------------------\n",
    "second_dim = 1\n",
    "img_size = 160\n",
    "blocks_count = 5\n",
    "#--------------------------------------------------------------------------------------------------\n",
    "# TODO: load it from file\n",
    "#--------------------------------------------------------------------------------------------------\n",
    "conv_filter_size = [0 for _ in range(blocks_count)]\n",
    "conv_num_filters = [0 for _ in range(blocks_count)]\n",
    "conv_pad =    [0 for _ in range(blocks_count)]\n",
    "conv_stride = [0 for _ in range(blocks_count)]\n",
    "pool_size =   [0 for _ in range(blocks_count)]\n",
    "#--------------------------------------------------------------------------------------------------\n",
    "conv_filter_size[0] = 3\n",
    "conv_num_filters[0] = 64\n",
    "conv_pad[0]         = 1\n",
    "conv_stride[0]      = 1\n",
    "#--------------------------------------------------------------------------------------------------\n",
    "conv_filter_size[1] = 3\n",
    "conv_num_filters[1] = 128\n",
    "conv_pad[1]         = 1\n",
    "conv_stride[1]      = 1\n",
    "#--------------------------------------------------------------------------------------------------\n",
    "conv_filter_size[2] = 3\n",
    "conv_num_filters[2] = 256\n",
    "conv_stride[2]      = 1\n",
    "conv_pad[2]         = 1\n",
    "#--------------------------------------------------------------------------------------------------\n",
    "conv_filter_size[3] = 3\n",
    "conv_num_filters[3] = 512\n",
    "conv_stride[3]      = 1\n",
    "conv_pad[3]         = 1\n",
    "#--------------------------------------------------------------------------------------------------\n",
    "conv_filter_size[4] = 3\n",
    "conv_num_filters[4] = 512\n",
    "conv_stride[4]      = 1\n",
    "conv_pad[4]         = 1\n",
    "#--------------------------------------------------------------------------------------------------\n",
    "pool_size[0] = 2\n",
    "pool_size[1] = 2\n",
    "pool_size[2] = 2\n",
    "pool_size[3] = 2\n",
    "pool_size[4] = 2\n",
    "#--------------------------------------------------------------------------------------------------\n",
    "dense_layer1_size = 1024\n",
    "dense_layer1_drop = 0.5\n",
    "dense_layer2_size = 512\n",
    "dense_layer2_drop = 0.5\n",
    "#==================================================================================================\n",
    "my_nonlin = rectify\n",
    "#==================================================================================================\n",
    "input_image_left     = T.tensor4('input_left')\n",
    "input_image_positive = T.tensor4('input_positive')\n",
    "input_image_negative = T.tensor4('input_negative')\n",
    "#==================================================================================================\n",
    "l_input = InputLayer(shape=(None, second_dim, img_size, img_size), input_var=input_image_left)\n",
    "p_input = InputLayer(shape=(None, second_dim, img_size, img_size), input_var=input_image_positive)\n",
    "n_input = InputLayer(shape=(None, second_dim, img_size, img_size), input_var=input_image_negative)\n",
    "#==================================================================================================\n",
    "# Creating blocks [CONV->CONV->POOL] for LEFT\n",
    "#--------------------------------------------------------------------------------------------------\n",
    "net = l_input\n",
    "for i in range(blocks_count):\n",
    "    net = Conv2DLayer(net, conv_num_filters[i], conv_filter_size[i], pad=conv_pad[i],\n",
    "                      stride=conv_stride[i], nonlinearity=my_nonlin)\n",
    "    net = Conv2DLayer(net, conv_num_filters[i], conv_filter_size[i], pad=conv_pad[i],\n",
    "                      stride=conv_stride[i], nonlinearity=my_nonlin)\n",
    "    net = MaxPool2DLayer(net, pool_size[i])\n",
    "#--------------------------------------------------------------------------------------------------\n",
    "net = DenseLayer(dropout(net, p=dense_layer1_drop), num_units=dense_layer1_size, \n",
    "                 nonlinearity=my_nonlin)\n",
    "nn_l_out = DenseLayer(dropout(net, p=dense_layer2_drop), num_units=dense_layer2_size, \n",
    "                      nonlinearity=my_nonlin)\n",
    "#--------------------------------------------------------------------------------------------------\n",
    "l_params = lasagne.layers.get_all_params(nn_l_out)\n",
    "#==================================================================================================\n",
    "# Creating blocks [CONV->CONV->POOL] for POSITIVE\n",
    "#--------------------------------------------------------------------------------------------------\n",
    "net = p_input\n",
    "for i in range(blocks_count):\n",
    "    net = Conv2DLayer(net, conv_num_filters[i], conv_filter_size[i], pad=conv_pad[i],\n",
    "                      stride=conv_stride[i], nonlinearity=my_nonlin,\n",
    "                      W=l_params[4*i], b=l_params[4*i+1])\n",
    "    net = Conv2DLayer(net, conv_num_filters[i], conv_filter_size[i], pad=conv_pad[i], \n",
    "                      stride=conv_stride[i], nonlinearity=my_nonlin,\n",
    "                      W=l_params[4*i+2], b=l_params[4*i+3])\n",
    "    net = MaxPool2DLayer(net, pool_size[i])\n",
    "#--------------------------------------------------------------------------------------------------\n",
    "net = DenseLayer(dropout(net, p=dense_layer1_drop), num_units=dense_layer1_size, \n",
    "                 nonlinearity=my_nonlin,\n",
    "                 W=l_params[blocks_count*4], b=l_params[blocks_count*4+1])\n",
    "nn_p_out = DenseLayer(dropout(net, p=dense_layer2_drop), num_units=dense_layer2_size,\n",
    "                 nonlinearity=my_nonlin,\n",
    "                 W=l_params[blocks_count*4+2], b=l_params[blocks_count*4+3])\n",
    "#==================================================================================================\n",
    "# Creating blocks [CONV->CONV->POOL] for NEGATIVE\n",
    "#--------------------------------------------------------------------------------------------------\n",
    "net = n_input\n",
    "for i in range(blocks_count):\n",
    "    net = Conv2DLayer(net, conv_num_filters[i], conv_filter_size[i], pad=conv_pad[i],\n",
    "                      stride=conv_stride[i], nonlinearity=my_nonlin,\n",
    "                      W=l_params[4*i], b=l_params[4*i+1])\n",
    "    net = Conv2DLayer(net, conv_num_filters[i], conv_filter_size[i], pad=conv_pad[i], \n",
    "                      stride=conv_stride[i], nonlinearity=my_nonlin,\n",
    "                      W=l_params[4*i+2], b=l_params[4*i+3])\n",
    "    net = MaxPool2DLayer(net, pool_size[i])\n",
    "#--------------------------------------------------------------------------------------------------\n",
    "net = DenseLayer(dropout(net, p=dense_layer1_drop), num_units=dense_layer1_size, \n",
    "                 nonlinearity=my_nonlin,\n",
    "                 W=l_params[blocks_count*4], b=l_params[blocks_count*4+1])\n",
    "nn_n_out = DenseLayer(dropout(net, p=dense_layer2_drop), num_units=dense_layer2_size,\n",
    "                 nonlinearity=my_nonlin,\n",
    "                 W=l_params[blocks_count*4+2], b=l_params[blocks_count*4+3])\n",
    "#==================================================================================================\n",
    "nn_merge = lasagne.layers.concat([nn_l_out, nn_p_out, nn_n_out], axis=1)\n",
    "nn_out      = lasagne.layers.get_output(nn_merge, deterministic=False)\n",
    "nn_out_test = lasagne.layers.get_output(nn_merge, deterministic=True)\n",
    "#--------------------------------------------------------------------------------------------------\n",
    "nn_out_left     = nn_out[:, :dense_layer2_size]\n",
    "nn_out_positive = nn_out[:, dense_layer2_size:dense_layer1_size]\n",
    "nn_out_negative = nn_out[:, dense_layer1_size:]\n",
    "#--------------------------------------------------------------------------------------------------\n",
    "nn_out_left_test     = nn_out_test[:, :dense_layer2_size]\n",
    "nn_out_positive_test = nn_out_test[:, dense_layer2_size:dense_layer1_size]\n",
    "nn_out_negative_test = nn_out_test[:, dense_layer1_size:]\n",
    "#--------------------------------------------------------------------------------------------------\n",
    "a = T.scalar()\n",
    "#--------------------------------------------------------------------------------------------------\n",
    "d1   = T.sum(T.sqr(nn_out_left - nn_out_positive), axis=1)\n",
    "d2   = T.sum(T.sqr(nn_out_left - nn_out_negative), axis=1)\n",
    "loss = T.sum(T.maximum(T.sqr(d1) - T.sqr(d2) + a, 0.))\n",
    "#--------------------------------------------------------------------------------------------------\n",
    "d1_test   = T.sum(T.sqr(nn_out_left_test - nn_out_positive_test), axis=1)\n",
    "d2_test   = T.sum(T.sqr(nn_out_left_test - nn_out_negative_test), axis=1)\n",
    "test_loss = T.sum(T.maximum(T.sqr(d1_test) - T.sqr(d2_test) + a, 0.))\n",
    "#--------------------------------------------------------------------------------------------------\n",
    "params = lasagne.layers.get_all_params(nn_merge)\n",
    "updates = lasagne.updates.adamax(loss, params)\n",
    "#==================================================================================================\n",
    "train_fn = theano.function([input_image_left, input_image_positive, input_image_negative, a], \n",
    "                           loss, \n",
    "                           updates=updates, allow_input_downcast=True)\n",
    "#==================================================================================================\n",
    "val_fn = theano.function([input_image_left, input_image_positive, input_image_negative, a], \n",
    "                         test_loss, \n",
    "                         updates=updates, allow_input_downcast=True)\n",
    "#==================================================================================================\n",
    "test_fn = theano.function([input_image_left, input_image_positive, input_image_negative],\n",
    "                          [d1_test, d2_test], \n",
    "                          allow_input_downcast=True)\n",
    "#==================================================================================================\n",
    "#get_vec = theano.function([input_image_left], nn_out_spec, allow_input_downcast=True)\n",
    "#=================================================================================================="
   ]
  },
  {
   "cell_type": "code",
   "execution_count": 2,
   "metadata": {
    "collapsed": true,
    "deletable": true,
    "editable": true
   },
   "outputs": [],
   "source": [
    "def iterate_minibatches(inputs, targets, batchs_per_epoch=100, batchsize=20, train=True, shuffle=False):\n",
    "    assert len(inputs) == len(targets)\n",
    "\n",
    "    left_indices = np.arange(len(inputs))\n",
    "    \n",
    "    if shuffle:\n",
    "        np.random.shuffle(left_indices)\n",
    "        \n",
    "    for _ in range(batchs_per_epoch):\n",
    "        full_lft_indxs = []\n",
    "        full_pos_indxs = []\n",
    "        full_neg_indxs = []\n",
    "        \n",
    "        for _ in range(batchsize):\n",
    "            start_idx = np.random.randint(low=0, high=len(left_indices))\n",
    "            full_lft_indxs.append(start_idx)\n",
    "            \n",
    "            pos_idxs = np.where(targets == targets[start_idx])[0]\n",
    "            b_idxs = np.random.randint(low=0, high=len(pos_idxs), size=1)\n",
    "            full_pos_indxs.append(pos_idxs[b_idxs[0]])\n",
    "            \n",
    "            neg_idxs = np.where(targets != targets[start_idx])[0]\n",
    "            b_idxs = np.random.randint(low=0, high=len(neg_idxs), size=1)\n",
    "            full_neg_indxs.append(neg_idxs[b_idxs[0]])\n",
    "\n",
    "        full_lft_indxs = np.array(full_lft_indxs)\n",
    "        full_pos_indxs = np.array(full_pos_indxs)\n",
    "        full_neg_indxs = np.array(full_neg_indxs)\n",
    "        \n",
    "        yield inputs[full_lft_indxs], inputs[full_pos_indxs], inputs[full_neg_indxs]"
   ]
  },
  {
   "cell_type": "code",
   "execution_count": 3,
   "metadata": {
    "collapsed": false,
    "deletable": true,
    "editable": true
   },
   "outputs": [],
   "source": [
    "files = np.load('../datasets/data_set160.npz')\n",
    "X_train, y_train, X_val, y_val = files['X_train'], files['y_train'], files['X_test'], files['y_test']\n",
    "# Load training and test splits as numpy arrays\n",
    "# train, val, test = pickle.load(gzip.open('mnist.pkl.gz'))\n",
    "# X_train, y_train = train\n",
    "# X_val, y_val = val"
   ]
  },
  {
   "cell_type": "code",
   "execution_count": 10,
   "metadata": {
    "collapsed": true,
    "deletable": true,
    "editable": true
   },
   "outputs": [],
   "source": [
    "num_epochs = 200\n",
    "train_errors = []\n",
    "val_errors = []\n",
    "epoch = 0\n",
    "batch_size = 20\n",
    "batchs_per_epoch = 5\n",
    "\n",
    "margin = 1.242"
   ]
  },
  {
   "cell_type": "code",
   "execution_count": 11,
   "metadata": {
    "collapsed": false,
    "deletable": true,
    "editable": true,
    "scrolled": true
   },
   "outputs": [
    {
     "name": "stdout",
     "output_type": "stream",
     "text": [
      "25.8837432861\n",
      "Epoch 1 of 200 took 1180.723s\n",
      "  training loss:\t\t23.557362\n",
      "  validation loss:\t\t24.814462\n",
      "24.0523910522\n",
      "Epoch 2 of 200 took 1144.473s\n",
      "  training loss:\t\t23.872484\n",
      "  validation loss:\t\t24.819556\n",
      "27.8943557739\n",
      "Epoch 3 of 200 took 1147.131s\n",
      "  training loss:\t\t25.738000\n",
      "  validation loss:\t\t24.810492\n"
     ]
    },
    {
     "ename": "KeyboardInterrupt",
     "evalue": "",
     "output_type": "error",
     "traceback": [
      "\u001b[0;31m---------------------------------------------------------------------------\u001b[0m",
      "\u001b[0;31mKeyboardInterrupt\u001b[0m                         Traceback (most recent call last)",
      "\u001b[0;32m<ipython-input-11-22226b374037>\u001b[0m in \u001b[0;36m<module>\u001b[0;34m()\u001b[0m\n\u001b[1;32m      8\u001b[0m                                      batchsize=batch_size, train=True, shuffle=True):\n\u001b[1;32m      9\u001b[0m         \u001b[0minputs_left\u001b[0m\u001b[0;34m,\u001b[0m \u001b[0minputs_positive\u001b[0m\u001b[0;34m,\u001b[0m \u001b[0minputs_negative\u001b[0m \u001b[0;34m=\u001b[0m \u001b[0mbatch\u001b[0m\u001b[0;34m\u001b[0m\u001b[0m\n\u001b[0;32m---> 10\u001b[0;31m         \u001b[0merr\u001b[0m \u001b[0;34m=\u001b[0m \u001b[0mtrain_fn\u001b[0m\u001b[0;34m(\u001b[0m\u001b[0minputs_left\u001b[0m\u001b[0;34m,\u001b[0m \u001b[0minputs_positive\u001b[0m\u001b[0;34m,\u001b[0m \u001b[0minputs_negative\u001b[0m\u001b[0;34m,\u001b[0m \u001b[0mmargin\u001b[0m\u001b[0;34m)\u001b[0m\u001b[0;34m\u001b[0m\u001b[0m\n\u001b[0m\u001b[1;32m     11\u001b[0m         \u001b[0mtrain_err\u001b[0m \u001b[0;34m+=\u001b[0m \u001b[0merr\u001b[0m\u001b[0;34m\u001b[0m\u001b[0m\n\u001b[1;32m     12\u001b[0m         \u001b[0mtrain_batches\u001b[0m \u001b[0;34m+=\u001b[0m \u001b[0;36m1\u001b[0m\u001b[0;34m\u001b[0m\u001b[0m\n",
      "\u001b[0;32m/home/snipghost/.local/lib/python2.7/site-packages/theano/compile/function_module.pyc\u001b[0m in \u001b[0;36m__call__\u001b[0;34m(self, *args, **kwargs)\u001b[0m\n\u001b[1;32m    882\u001b[0m         \u001b[0;32mtry\u001b[0m\u001b[0;34m:\u001b[0m\u001b[0;34m\u001b[0m\u001b[0m\n\u001b[1;32m    883\u001b[0m             \u001b[0moutputs\u001b[0m \u001b[0;34m=\u001b[0m\u001b[0;31m\\\u001b[0m\u001b[0;34m\u001b[0m\u001b[0m\n\u001b[0;32m--> 884\u001b[0;31m                 \u001b[0mself\u001b[0m\u001b[0;34m.\u001b[0m\u001b[0mfn\u001b[0m\u001b[0;34m(\u001b[0m\u001b[0;34m)\u001b[0m \u001b[0;32mif\u001b[0m \u001b[0moutput_subset\u001b[0m \u001b[0;32mis\u001b[0m \u001b[0mNone\u001b[0m \u001b[0;32melse\u001b[0m\u001b[0;31m\\\u001b[0m\u001b[0;34m\u001b[0m\u001b[0m\n\u001b[0m\u001b[1;32m    885\u001b[0m                 \u001b[0mself\u001b[0m\u001b[0;34m.\u001b[0m\u001b[0mfn\u001b[0m\u001b[0;34m(\u001b[0m\u001b[0moutput_subset\u001b[0m\u001b[0;34m=\u001b[0m\u001b[0moutput_subset\u001b[0m\u001b[0;34m)\u001b[0m\u001b[0;34m\u001b[0m\u001b[0m\n\u001b[1;32m    886\u001b[0m         \u001b[0;32mexcept\u001b[0m \u001b[0mException\u001b[0m\u001b[0;34m:\u001b[0m\u001b[0;34m\u001b[0m\u001b[0m\n",
      "\u001b[0;32m/home/snipghost/.local/lib/python2.7/site-packages/theano/gof/op.pyc\u001b[0m in \u001b[0;36mrval\u001b[0;34m(p, i, o, n)\u001b[0m\n\u001b[1;32m    883\u001b[0m         \u001b[0;32mif\u001b[0m \u001b[0mparams\u001b[0m \u001b[0;32mis\u001b[0m \u001b[0mgraph\u001b[0m\u001b[0;34m.\u001b[0m\u001b[0mNoParams\u001b[0m\u001b[0;34m:\u001b[0m\u001b[0;34m\u001b[0m\u001b[0m\n\u001b[1;32m    884\u001b[0m             \u001b[0;31m# default arguments are stored in the closure of `rval`\u001b[0m\u001b[0;34m\u001b[0m\u001b[0;34m\u001b[0m\u001b[0m\n\u001b[0;32m--> 885\u001b[0;31m             \u001b[0;32mdef\u001b[0m \u001b[0mrval\u001b[0m\u001b[0;34m(\u001b[0m\u001b[0mp\u001b[0m\u001b[0;34m=\u001b[0m\u001b[0mp\u001b[0m\u001b[0;34m,\u001b[0m \u001b[0mi\u001b[0m\u001b[0;34m=\u001b[0m\u001b[0mnode_input_storage\u001b[0m\u001b[0;34m,\u001b[0m \u001b[0mo\u001b[0m\u001b[0;34m=\u001b[0m\u001b[0mnode_output_storage\u001b[0m\u001b[0;34m,\u001b[0m \u001b[0mn\u001b[0m\u001b[0;34m=\u001b[0m\u001b[0mnode\u001b[0m\u001b[0;34m)\u001b[0m\u001b[0;34m:\u001b[0m\u001b[0;34m\u001b[0m\u001b[0m\n\u001b[0m\u001b[1;32m    886\u001b[0m                 \u001b[0mr\u001b[0m \u001b[0;34m=\u001b[0m \u001b[0mp\u001b[0m\u001b[0;34m(\u001b[0m\u001b[0mn\u001b[0m\u001b[0;34m,\u001b[0m \u001b[0;34m[\u001b[0m\u001b[0mx\u001b[0m\u001b[0;34m[\u001b[0m\u001b[0;36m0\u001b[0m\u001b[0;34m]\u001b[0m \u001b[0;32mfor\u001b[0m \u001b[0mx\u001b[0m \u001b[0;32min\u001b[0m \u001b[0mi\u001b[0m\u001b[0;34m]\u001b[0m\u001b[0;34m,\u001b[0m \u001b[0mo\u001b[0m\u001b[0;34m)\u001b[0m\u001b[0;34m\u001b[0m\u001b[0m\n\u001b[1;32m    887\u001b[0m                 \u001b[0;32mfor\u001b[0m \u001b[0mo\u001b[0m \u001b[0;32min\u001b[0m \u001b[0mnode\u001b[0m\u001b[0;34m.\u001b[0m\u001b[0moutputs\u001b[0m\u001b[0;34m:\u001b[0m\u001b[0;34m\u001b[0m\u001b[0m\n",
      "\u001b[0;31mKeyboardInterrupt\u001b[0m: "
     ]
    }
   ],
   "source": [
    "import time\n",
    "\n",
    "for epoch in range(epoch, num_epochs):\n",
    "    train_err = 0\n",
    "    train_batches = 0\n",
    "    start_time = time.time()\n",
    "    for batch in iterate_minibatches(X_train, y_train, batchs_per_epoch=batchs_per_epoch,\n",
    "                                     batchsize=batch_size, train=True, shuffle=True):\n",
    "        inputs_left, inputs_positive, inputs_negative = batch\n",
    "        err = train_fn(inputs_left, inputs_positive, inputs_negative, margin)\n",
    "        train_err += err\n",
    "        train_batches += 1\n",
    "    print(err)\n",
    "\n",
    "    val_err = 0\n",
    "    val_acc = 0\n",
    "    val_batches = 0\n",
    "    for batch in iterate_minibatches(X_val, y_val, batchs_per_epoch=batchs_per_epoch,\n",
    "                                     batchsize=batch_size, train=False, shuffle=True):\n",
    "        inputs_left, inputs_positive, inputs_negative = batch\n",
    "        err = val_fn(inputs_left, inputs_positive, inputs_negative, margin)\n",
    "        val_err += err\n",
    "        val_batches += 1\n",
    "\n",
    "    print(\"Epoch {} of {} took {:.3f}s\".format(\n",
    "        epoch + 1, num_epochs, time.time() - start_time))\n",
    "    print(\"  training loss:\\t\\t{:.6f}\".format(train_err / train_batches))\n",
    "    print(\"  validation loss:\\t\\t{:.6f}\".format(val_err / val_batches))\n",
    "    train_errors.append(train_err / train_batches)\n",
    "    val_errors.append(val_err / val_batches)"
   ]
  },
  {
   "cell_type": "code",
   "execution_count": 12,
   "metadata": {
    "collapsed": true
   },
   "outputs": [],
   "source": [
    "import matplotlib.pyplot as plt\n",
    "%matplotlib inline"
   ]
  },
  {
   "cell_type": "code",
   "execution_count": 13,
   "metadata": {
    "collapsed": false,
    "deletable": true,
    "editable": true
   },
   "outputs": [
    {
     "data": {
      "image/png": "[encoded data removed]",
      "text/plain": [
       "<matplotlib.figure.Figure at 0x7f41846ff790>"
      ]
     },
     "metadata": {},
     "output_type": "display_data"
    }
   ],
   "source": [
    "plt.plot(train_errors, 'r')\n",
    "plt.plot(val_errors, 'b')\n",
    "plt.show()"
   ]
  },
  {
   "cell_type": "code",
   "execution_count": 14,
   "metadata": {
    "collapsed": false,
    "deletable": true,
    "editable": true
   },
   "outputs": [],
   "source": [
    "import cPickle as pickle\n",
    "import os\n",
    "\n",
    "import lasagne as nn\n",
    "\n",
    "def write_model_data(model, filename):\n",
    "    \"\"\"Pickels the parameters within a Lasagne model.\"\"\"\n",
    "    PARAM_EXTENSION = 'params'\n",
    "    data = nn.layers.get_all_param_values(model)\n",
    "    filename = os.path.join('./', filename)\n",
    "    filename = '%s.%s' % (filename, PARAM_EXTENSION)\n",
    "    with open(filename, 'w') as f:\n",
    "        pickle.dump(data, f)\n",
    "        \n",
    "write_model_data(nn_merge, '../model_params/model-vgg-2')"
   ]
  },
  {
   "cell_type": "code",
   "execution_count": 9,
   "metadata": {
    "collapsed": false,
    "deletable": true,
    "editable": true
   },
   "outputs": [
    {
     "name": "stdout",
     "output_type": "stream",
     "text": [
      "7\n"
     ]
    }
   ],
   "source": [
    "print epoch"
   ]
  },
  {
   "cell_type": "code",
   "execution_count": null,
   "metadata": {
    "collapsed": true,
    "deletable": true,
    "editable": true
   },
   "outputs": [],
   "source": []
  },
  {
   "cell_type": "code",
   "execution_count": null,
   "metadata": {
    "collapsed": true,
    "deletable": true,
    "editable": true
   },
   "outputs": [],
   "source": []
  }
 ],
 "metadata": {
  "kernelspec": {
   "display_name": "Python 2",
   "language": "python",
   "name": "python2"
  },
  "language_info": {
   "codemirror_mode": {
    "name": "ipython",
    "version": 2
   },
   "file_extension": ".py",
   "mimetype": "text/x-python",
   "name": "python",
   "nbconvert_exporter": "python",
   "pygments_lexer": "ipython2",
   "version": "2.7.12"
  },
  "toc": {
   "colors": {
    "hover_highlight": "#DAA520",
    "navigate_num": "#000000",
    "navigate_text": "#333333",
    "running_highlight": "#FF0000",
    "selected_highlight": "#FFD700",
    "sidebar_border": "#EEEEEE",
    "wrapper_background": "#FFFFFF"
   },
   "moveMenuLeft": true,
   "nav_menu": {
    "height": "60px",
    "width": "252px"
   },
   "navigate_menu": true,
   "number_sections": true,
   "sideBar": true,
   "threshold": 4,
   "toc_cell": true,
   "toc_section_display": "block",
   "toc_window_display": false,
   "widenNotebook": false
  }
 },
 "nbformat": 4,
 "nbformat_minor": 1
}
